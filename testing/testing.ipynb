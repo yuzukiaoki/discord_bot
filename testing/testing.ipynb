{
 "cells": [
  {
   "cell_type": "code",
   "execution_count": 16,
   "metadata": {},
   "outputs": [
    {
     "data": {
      "text/plain": [
       "[2, 3, 4, 5, 6]"
      ]
     },
     "execution_count": 16,
     "metadata": {},
     "output_type": "execute_result"
    }
   ],
   "source": [
    "alist = [1,2,3,4,5,6]\n",
    "alist[1:]"
   ]
  },
  {
   "cell_type": "code",
   "execution_count": 15,
   "metadata": {},
   "outputs": [
    {
     "name": "stdout",
     "output_type": "stream",
     "text": [
      "<class 'list'> 1\n",
      "4\n",
      "https://scontent-iad3-1.xx.fbcdn.net/v/t39.30808-6/303422869_3240498256165168_7811541405122466929_n.jpg?stp=cp0_dst-jpg_e15_fr_q65&_nc_cat=104&ccb=1-7&_nc_sid=8024bb&efg=eyJpIjoidCJ9&_nc_ohc=aCUxzoWSKSEAX9lWTAX&_nc_ht=scontent-iad3-1.xx&oh=00_AT8gcO2feYdRao5aUX-9msue5sR-MPwG8L7iAIkzQH0mXQ&oe=6331B496\n",
      "https://scontent-iad3-1.xx.fbcdn.net/v/t39.30808-6/305498378_3240499406165053_3519950082042082856_n.jpg?stp=cp0_dst-jpg_e15_fr_q65&_nc_cat=101&ccb=1-7&_nc_sid=8024bb&efg=eyJpIjoidCJ9&_nc_ohc=khUU8iVP3VkAX_Yoy0a&tn=1WEbrmgJZ8zBBUXu&_nc_ht=scontent-iad3-1.xx&oh=00_AT-NGd0_KhEG8atzMy5rafP_Oe76AHY7c3iJfOeq5IpL1Q&oe=63330E3B\n",
      "https://scontent-iad3-1.xx.fbcdn.net/v/t39.30808-6/305466665_3240499382831722_598583200819255443_n.jpg?stp=cp0_dst-jpg_e15_fr_q65&_nc_cat=106&ccb=1-7&_nc_sid=8024bb&efg=eyJpIjoidCJ9&_nc_ohc=s2F4f1JxAGEAX_fuqDE&_nc_ht=scontent-iad3-1.xx&oh=00_AT9JDaI9_o4dsGvh6-Qmi8f9Yxc7WYiIWapi1LLcvTCVww&oe=63322FA8\n",
      "https://scontent-iad3-1.xx.fbcdn.net/v/t39.30808-6/302137932_3240501089498218_1094055597756657104_n.jpg?stp=cp0_dst-jpg_e15_fr_q65&_nc_cat=105&ccb=1-7&_nc_sid=8024bb&efg=eyJpIjoidCJ9&_nc_ohc=5f-WcFq__9IAX9q5Mgz&_nc_ht=scontent-iad3-1.xx&oh=00_AT-RV-7agz6C5YpDYXABvOI7GK17bFEgyv-IXSNj2Xzqjg&oe=633318D2\n",
      "https://scontent-iad3-1.xx.fbcdn.net/v/t39.30808-6/289327671_3240513042830356_3722598155834670219_n.png?_nc_cat=103&ccb=1-7&_nc_sid=8024bb&efg=eyJpIjoidCJ9&_nc_ohc=UfkdSneTw7QAX8kK1yA&tn=1WEbrmgJZ8zBBUXu&_nc_ht=scontent-iad3-1.xx&oh=00_AT9jsPgN_KkbdLfmCLbXDDKGqF3VVpBCHBlVryK9e2fYig&oe=6331AB87\n",
      "https://scontent-iad3-1.xx.fbcdn.net/v/t39.30808-6/308436985_3240745226140471_6964480845587611438_n.jpg?stp=cp0_dst-jpg_e15_fr_q65&_nc_cat=101&ccb=1-7&_nc_sid=8024bb&efg=eyJpIjoidCJ9&_nc_ohc=OX8YbZA9nOwAX-9aPdc&_nc_oc=AQk3Bdmpf4b2MC5HP4uSkZVwEk7HLMgNshakOqc_84pzFn8e_gYyexVxuv7p7ur1lj4&_nc_ht=scontent-iad3-1.xx&oh=00_AT_10O7DW_jDjByw9sRyVEH8FCljyzytwgjel0M8C1ZUow&oe=63335226\n"
     ]
    }
   ],
   "source": [
    "ab =['https://scontent-iad3-1.xx.fbcdn.net/v/t39.30808-6/303422869_3240498256165168_7811541405122466929_n.jpg?stp=cp0_dst-jpg_e15_fr_q65&_nc_cat=104&ccb=1-7&_nc_sid=8024bb&efg=eyJpIjoidCJ9&_nc_ohc=aCUxzoWSKSEAX9lWTAX&_nc_ht=scontent-iad3-1.xx&oh=00_AT8gcO2feYdRao5aUX-9msue5sR-MPwG8L7iAIkzQH0mXQ&oe=6331B496', 'https://scontent-iad3-1.xx.fbcdn.net/v/t39.30808-6/305498378_3240499406165053_3519950082042082856_n.jpg?stp=cp0_dst-jpg_e15_fr_q65&_nc_cat=101&ccb=1-7&_nc_sid=8024bb&efg=eyJpIjoidCJ9&_nc_ohc=khUU8iVP3VkAX_Yoy0a&tn=1WEbrmgJZ8zBBUXu&_nc_ht=scontent-iad3-1.xx&oh=00_AT-NGd0_KhEG8atzMy5rafP_Oe76AHY7c3iJfOeq5IpL1Q&oe=63330E3B', 'https://scontent-iad3-1.xx.fbcdn.net/v/t39.30808-6/305466665_3240499382831722_598583200819255443_n.jpg?stp=cp0_dst-jpg_e15_fr_q65&_nc_cat=106&ccb=1-7&_nc_sid=8024bb&efg=eyJpIjoidCJ9&_nc_ohc=s2F4f1JxAGEAX_fuqDE&_nc_ht=scontent-iad3-1.xx&oh=00_AT9JDaI9_o4dsGvh6-Qmi8f9Yxc7WYiIWapi1LLcvTCVww&oe=63322FA8', 'https://scontent-iad3-1.xx.fbcdn.net/v/t39.30808-6/302137932_3240501089498218_1094055597756657104_n.jpg?stp=cp0_dst-jpg_e15_fr_q65&_nc_cat=105&ccb=1-7&_nc_sid=8024bb&efg=eyJpIjoidCJ9&_nc_ohc=5f-WcFq__9IAX9q5Mgz&_nc_ht=scontent-iad3-1.xx&oh=00_AT-RV-7agz6C5YpDYXABvOI7GK17bFEgyv-IXSNj2Xzqjg&oe=633318D2', 'https://scontent-iad3-1.xx.fbcdn.net/v/t39.30808-6/289327671_3240513042830356_3722598155834670219_n.png?_nc_cat=103&ccb=1-7&_nc_sid=8024bb&efg=eyJpIjoidCJ9&_nc_ohc=UfkdSneTw7QAX8kK1yA&tn=1WEbrmgJZ8zBBUXu&_nc_ht=scontent-iad3-1.xx&oh=00_AT9jsPgN_KkbdLfmCLbXDDKGqF3VVpBCHBlVryK9e2fYig&oe=6331AB87', 'https://scontent-iad3-1.xx.fbcdn.net/v/t39.30808-6/308436985_3240745226140471_6964480845587611438_n.jpg?stp=cp0_dst-jpg_e15_fr_q65&_nc_cat=101&ccb=1-7&_nc_sid=8024bb&efg=eyJpIjoidCJ9&_nc_ohc=OX8YbZA9nOwAX-9aPdc&_nc_oc=AQk3Bdmpf4b2MC5HP4uSkZVwEk7HLMgNshakOqc_84pzFn8e_gYyexVxuv7p7ur1lj4&_nc_ht=scontent-iad3-1.xx&oh=00_AT_10O7DW_jDjByw9sRyVEH8FCljyzytwgjel0M8C1ZUow&oe=63335226']\n",
    "print(type(ab),\"1\")\n",
    "print(\"4\")\n",
    "for i in ab:\n",
    "    print(i)"
   ]
  },
  {
   "cell_type": "code",
   "execution_count": 13,
   "metadata": {},
   "outputs": [
    {
     "name": "stdout",
     "output_type": "stream",
     "text": [
      "<class 'list'> 1\n",
      "4\n",
      "https://scontent-iad3-1.xx.fbcdn.net/v/t39.30808-6/303422869_3240498256165168_7811541405122466929_n.jpg?stp=cp0_dst-jpg_e15_fr_q65&_nc_cat=104&ccb=1-7&_nc_sid=8024bb&efg=eyJpIjoidCJ9&_nc_ohc=aCUxzoWSKSEAX9lWTAX&_nc_ht=scontent-iad3-1.xx&oh=00_AT8gcO2feYdRao5aUX-9msue5sR-MPwG8L7iAIkzQH0mXQ&oe=6331B496\n",
      "https://scontent-iad3-1.xx.fbcdn.net/v/t39.30808-6/305498378_3240499406165053_3519950082042082856_n.jpg?stp=cp0_dst-jpg_e15_fr_q65&_nc_cat=101&ccb=1-7&_nc_sid=8024bb&efg=eyJpIjoidCJ9&_nc_ohc=khUU8iVP3VkAX_Yoy0a&tn=1WEbrmgJZ8zBBUXu&_nc_ht=scontent-iad3-1.xx&oh=00_AT-NGd0_KhEG8atzMy5rafP_Oe76AHY7c3iJfOeq5IpL1Q&oe=63330E3B\n",
      "https://scontent-iad3-1.xx.fbcdn.net/v/t39.30808-6/305466665_3240499382831722_598583200819255443_n.jpg?stp=cp0_dst-jpg_e15_fr_q65&_nc_cat=106&ccb=1-7&_nc_sid=8024bb&efg=eyJpIjoidCJ9&_nc_ohc=s2F4f1JxAGEAX_fuqDE&_nc_ht=scontent-iad3-1.xx&oh=00_AT9JDaI9_o4dsGvh6-Qmi8f9Yxc7WYiIWapi1LLcvTCVww&oe=63322FA8\n",
      "https://scontent-iad3-1.xx.fbcdn.net/v/t39.30808-6/302137932_3240501089498218_1094055597756657104_n.jpg?stp=cp0_dst-jpg_e15_fr_q65&_nc_cat=105&ccb=1-7&_nc_sid=8024bb&efg=eyJpIjoidCJ9&_nc_ohc=5f-WcFq__9IAX9q5Mgz&_nc_ht=scontent-iad3-1.xx&oh=00_AT-RV-7agz6C5YpDYXABvOI7GK17bFEgyv-IXSNj2Xzqjg&oe=633318D2\n",
      "https://scontent-iad3-1.xx.fbcdn.net/v/t39.30808-6/289327671_3240513042830356_3722598155834670219_n.png?_nc_cat=103&ccb=1-7&_nc_sid=8024bb&efg=eyJpIjoidCJ9&_nc_ohc=UfkdSneTw7QAX8kK1yA&tn=1WEbrmgJZ8zBBUXu&_nc_ht=scontent-iad3-1.xx&oh=00_AT9jsPgN_KkbdLfmCLbXDDKGqF3VVpBCHBlVryK9e2fYig&oe=6331AB87\n",
      "https://scontent-iad3-1.xx.fbcdn.net/v/t39.30808-6/308436985_3240745226140471_6964480845587611438_n.jpg?stp=cp0_dst-jpg_e15_fr_q65&_nc_cat=101&ccb=1-7&_nc_sid=8024bb&efg=eyJpIjoidCJ9&_nc_ohc=OX8YbZA9nOwAX-9aPdc&_nc_oc=AQk3Bdmpf4b2MC5HP4uSkZVwEk7HLMgNshakOqc_84pzFn8e_gYyexVxuv7p7ur1lj4&_nc_ht=scontent-iad3-1.xx&oh=00_AT_10O7DW_jDjByw9sRyVEH8FCljyzytwgjel0M8C1ZUow&oe=63335226\n"
     ]
    }
   ],
   "source": [
    "#ab =['https://scontent-iad3-1.xx.fbcdn.net/v/t39.30808-6/303422869_3240498256165168_7811541405122466929_n.jpg?stp=cp0_dst-jpg_e15_fr_q65&_nc_cat=104&ccb=1-7&_nc_sid=8024bb&efg=eyJpIjoidCJ9&_nc_ohc=aCUxzoWSKSEAX9lWTAX&_nc_ht=scontent-iad3-1.xx&oh=00_AT8gcO2feYdRao5aUX-9msue5sR-MPwG8L7iAIkzQH0mXQ&oe=6331B496', 'https://scontent-iad3-1.xx.fbcdn.net/v/t39.30808-6/305498378_3240499406165053_3519950082042082856_n.jpg?stp=cp0_dst-jpg_e15_fr_q65&_nc_cat=101&ccb=1-7&_nc_sid=8024bb&efg=eyJpIjoidCJ9&_nc_ohc=khUU8iVP3VkAX_Yoy0a&tn=1WEbrmgJZ8zBBUXu&_nc_ht=scontent-iad3-1.xx&oh=00_AT-NGd0_KhEG8atzMy5rafP_Oe76AHY7c3iJfOeq5IpL1Q&oe=63330E3B', 'https://scontent-iad3-1.xx.fbcdn.net/v/t39.30808-6/305466665_3240499382831722_598583200819255443_n.jpg?stp=cp0_dst-jpg_e15_fr_q65&_nc_cat=106&ccb=1-7&_nc_sid=8024bb&efg=eyJpIjoidCJ9&_nc_ohc=s2F4f1JxAGEAX_fuqDE&_nc_ht=scontent-iad3-1.xx&oh=00_AT9JDaI9_o4dsGvh6-Qmi8f9Yxc7WYiIWapi1LLcvTCVww&oe=63322FA8', 'https://scontent-iad3-1.xx.fbcdn.net/v/t39.30808-6/302137932_3240501089498218_1094055597756657104_n.jpg?stp=cp0_dst-jpg_e15_fr_q65&_nc_cat=105&ccb=1-7&_nc_sid=8024bb&efg=eyJpIjoidCJ9&_nc_ohc=5f-WcFq__9IAX9q5Mgz&_nc_ht=scontent-iad3-1.xx&oh=00_AT-RV-7agz6C5YpDYXABvOI7GK17bFEgyv-IXSNj2Xzqjg&oe=633318D2', 'https://scontent-iad3-1.xx.fbcdn.net/v/t39.30808-6/289327671_3240513042830356_3722598155834670219_n.png?_nc_cat=103&ccb=1-7&_nc_sid=8024bb&efg=eyJpIjoidCJ9&_nc_ohc=UfkdSneTw7QAX8kK1yA&tn=1WEbrmgJZ8zBBUXu&_nc_ht=scontent-iad3-1.xx&oh=00_AT9jsPgN_KkbdLfmCLbXDDKGqF3VVpBCHBlVryK9e2fYig&oe=6331AB87', 'https://scontent-iad3-1.xx.fbcdn.net/v/t39.30808-6/308436985_3240745226140471_6964480845587611438_n.jpg?stp=cp0_dst-jpg_e15_fr_q65&_nc_cat=101&ccb=1-7&_nc_sid=8024bb&efg=eyJpIjoidCJ9&_nc_ohc=OX8YbZA9nOwAX-9aPdc&_nc_oc=AQk3Bdmpf4b2MC5HP4uSkZVwEk7HLMgNshakOqc_84pzFn8e_gYyexVxuv7p7ur1lj4&_nc_ht=scontent-iad3-1.xx&oh=00_AT_10O7DW_jDjByw9sRyVEH8FCljyzytwgjel0M8C1ZUow&oe=63335226']\n",
    "print(type(ab),\"1\")\n",
    "print(\"4\")\n",
    "for i in ab:\n",
    "    print(i)"
   ]
  },
  {
   "cell_type": "code",
   "execution_count": 6,
   "metadata": {},
   "outputs": [
    {
     "data": {
      "text/plain": [
       "12"
      ]
     },
     "execution_count": 6,
     "metadata": {},
     "output_type": "execute_result"
    }
   ],
   "source": [
    "def test(a=5,b=4):\n",
    "    return a+b\n",
    "test(6,6)"
   ]
  },
  {
   "cell_type": "code",
   "execution_count": null,
   "metadata": {},
   "outputs": [],
   "source": [
    "lista = []\n",
    "print(len(lista))"
   ]
  },
  {
   "cell_type": "code",
   "execution_count": null,
   "metadata": {},
   "outputs": [],
   "source": [
    "doit = input(\"輸入阿\")\n",
    "lista=['apple','banana','orange']\n",
    "if doit not in lista:\n",
    "    print(\"不在lista裡\")\n",
    "else:\n",
    "    print(\"在lista裡\")"
   ]
  },
  {
   "cell_type": "code",
   "execution_count": null,
   "metadata": {},
   "outputs": [],
   "source": [
    "import time\n",
    "\n",
    "while True:\n",
    "    time.sleep(2)\n",
    "    math1 = 1\n",
    "    math2 = 2\n",
    "    if math1 ==0:\n",
    "        pass\n",
    "    elif math1 ==1:\n",
    "        if math2 ==2:\n",
    "            math3 = 3\n",
    "            print(\"hehe\")\n",
    "            break\n",
    "        else:\n",
    "            pass\n",
    "    else:\n",
    "        pass"
   ]
  },
  {
   "cell_type": "code",
   "execution_count": null,
   "metadata": {},
   "outputs": [],
   "source": [
    "lista = ['apple','banana','bang']\n",
    "upperlist = [x.upper() for x in lista]\n",
    "print(upperlist)"
   ]
  },
  {
   "cell_type": "code",
   "execution_count": null,
   "metadata": {},
   "outputs": [],
   "source": [
    "list1 = [1,2,3,4]\n",
    "for int in list1:\n",
    "    print(int)\n",
    "    if int == 3:\n",
    "        break"
   ]
  },
  {
   "cell_type": "code",
   "execution_count": null,
   "metadata": {},
   "outputs": [],
   "source": [
    "def many(a,b=5,*arg,c=8):\n",
    "    a=b-1\n",
    "    print(a)\n",
    "    print(b)\n",
    "    print(arg)\n",
    "    print(c)\n",
    "    \n",
    "many(4,1,2,3)\n",
    "    "
   ]
  },
  {
   "cell_type": "code",
   "execution_count": null,
   "metadata": {},
   "outputs": [],
   "source": [
    "a=5\n",
    "b=6-1\n",
    "c = []\n",
    "def test():\n",
    "    if a == b:\n",
    "        return\n",
    "    c.append(a)\n",
    "    c.append(b)\n",
    "    print(c)\n",
    "    #print(a+b)\n",
    "test()\n",
    "print(c)"
   ]
  },
  {
   "cell_type": "code",
   "execution_count": null,
   "metadata": {},
   "outputs": [],
   "source": [
    "class BangBang:\n",
    "    def __init__ (self, a1=5, b1=6):\n",
    "        # self.a1 :str = a1\n",
    "        # self.b1 :str = b1\n",
    "        self.a1 = a1\n",
    "        self.b1 = b1\n",
    "    \n",
    "    def add(self):\n",
    "        return self.a1 + self.b1\n",
    "\n",
    "doit = BangBang(9,10)\n",
    "print(doit.add())"
   ]
  },
  {
   "cell_type": "code",
   "execution_count": null,
   "metadata": {},
   "outputs": [],
   "source": [
    "def hello()-> str: # 這裡的str代表，我宣告這隻hello應該要回傳string\n",
    "    return \"hello world\"  #  這裡是實際的return值，是一個字串\n",
    "hello()\n",
    "\n",
    "def wrong_hello()-> str:  #  我宣告這個wrong_hello必須回傳str\n",
    "    return True  # 我實際回傳是一個 Boolean\n",
    "wrong_hello()"
   ]
  },
  {
   "cell_type": "code",
   "execution_count": null,
   "metadata": {},
   "outputs": [],
   "source": [
    "from datetime import datetime\n",
    "WholenowTime = datetime.now().strftime(\"%Y-%m-%d\")\n",
    "url = r\"c:\\Users\\user\\Desktop\\{} .txt\".format(WholenowTime)\n",
    "url"
   ]
  },
  {
   "cell_type": "code",
   "execution_count": null,
   "metadata": {},
   "outputs": [],
   "source": [
    "import time\n",
    "now = int(time.time())\n",
    "now"
   ]
  },
  {
   "cell_type": "code",
   "execution_count": null,
   "metadata": {},
   "outputs": [],
   "source": [
    "a= input(\"456\\n\")\n",
    "print(f\"{a}\")\n",
    "print(type(a))"
   ]
  },
  {
   "cell_type": "code",
   "execution_count": null,
   "metadata": {},
   "outputs": [],
   "source": [
    "word = 'we.wewewewe'\n",
    "word.split(\".\")"
   ]
  },
  {
   "cell_type": "code",
   "execution_count": null,
   "metadata": {},
   "outputs": [],
   "source": [
    "import time\n",
    "while True:\n",
    "    a=2\n",
    "    print(\"take it\")\n",
    "    time.sleep(1)\n",
    "    if a == 2 :\n",
    "        while True:\n",
    "            try:\n",
    "                print(\"good\")\n",
    "\n",
    "                break\n",
    "                print(\"bad\")\n",
    "            except Exception as ex:\n",
    "                print(ex)\n",
    "            finally:\n",
    "                print(\"wow\")\n",
    "\n"
   ]
  },
  {
   "cell_type": "code",
   "execution_count": null,
   "metadata": {},
   "outputs": [],
   "source": [
    "list1=[]\n",
    "list2=[4546466]\n",
    "print(bool(list2))"
   ]
  },
  {
   "cell_type": "code",
   "execution_count": null,
   "metadata": {},
   "outputs": [],
   "source": [
    "list1= [1,2,3,4,5,6,7,8,9,10]\n",
    "for i in list1:\n",
    "    print(i)\n",
    "    print(f\"len:{len(list1)}\")"
   ]
  },
  {
   "cell_type": "code",
   "execution_count": null,
   "metadata": {},
   "outputs": [],
   "source": [
    "class event():\n",
    "\n",
    "    def __init__(self) -> None:\n",
    "        pass\n",
    "\n",
    "    async def onMSG():\n",
    "        list1=[]\n",
    "        print(list1)\n",
    "        async def getIMG():\n",
    "            a=[1,2,3,4]\n",
    "            for i in a:\n",
    "                list1.append(i)\n",
    "        await getIMG()\n",
    "        \n",
    "    await onMSG()\n"
   ]
  },
  {
   "cell_type": "code",
   "execution_count": null,
   "metadata": {},
   "outputs": [],
   "source": [
    "import asyncio\n",
    "async def asDef():\n",
    "    print(\"123\")\n",
    "    i = 4+5\n",
    "    #return i\n",
    "    await asyncio.sleep(1)\n",
    "    print(\"456\")\n",
    "    return i\n",
    "await asDef()"
   ]
  },
  {
   "cell_type": "code",
   "execution_count": null,
   "metadata": {},
   "outputs": [],
   "source": [
    "a = -1\n",
    "b = bool(a)\n",
    "b"
   ]
  },
  {
   "cell_type": "code",
   "execution_count": null,
   "metadata": {},
   "outputs": [],
   "source": [
    "str1 = \"香蕉\"\n",
    "str2 = \"\\\\\"\n",
    "str1+str2"
   ]
  },
  {
   "cell_type": "code",
   "execution_count": null,
   "metadata": {},
   "outputs": [],
   "source": [
    "sometime = \"2022-01-18\"\n",
    "changetime= sometime.replace(\"-\",\"\")\n",
    "changetime"
   ]
  },
  {
   "cell_type": "code",
   "execution_count": null,
   "metadata": {},
   "outputs": [],
   "source": [
    "from dateutil.parser import parse\n",
    "\n",
    "def is_date(string, fuzzy=False):\n",
    "    \"\"\"\n",
    "    Return whether the string can be interpreted as a date.\n",
    "\n",
    "    :param string: str, string to check for date\n",
    "    :param fuzzy: bool, ignore unknown tokens in string if True\n",
    "    \"\"\"\n",
    "    try: \n",
    "        parse(string, fuzzy=fuzzy)\n",
    "        return True\n",
    "\n",
    "    except ValueError:\n",
    "        return False\n",
    "if is_date(\"2022 \") == False or is_date(\"2202\") == False:\n",
    "    print(\"good\")\n",
    "else:\n",
    "    print(\"bad\")"
   ]
  },
  {
   "cell_type": "code",
   "execution_count": null,
   "metadata": {},
   "outputs": [],
   "source": [
    "def hehe():\n",
    "    a=0\n",
    "    a=a+1\n",
    "   # return a\n",
    "print(hehe())\n",
    "print(type(hehe()))\n",
    "print(str(hehe()))\n",
    "print(type(str(hehe())))"
   ]
  },
  {
   "cell_type": "code",
   "execution_count": null,
   "metadata": {},
   "outputs": [],
   "source": [
    "#https://www.cnblogs.com/hszstudypy/p/13461785.html 時間範圍教學\n",
    "import datetime,time\n",
    "from datetime import datetime as dt\n",
    "from datetime import timedelta\n",
    "now_localtime = time.strftime(\"%Y-%m-%d\", time.localtime())\n",
    "print(now_localtime)\n",
    "print(type(now_localtime))\n",
    "utc_time = dt.utcnow()\n",
    "local_time = utc_time + timedelta(hours=8)\n",
    "local_time = local_time.strftime('%Y-%m-%d')\n",
    "print(local_time)\n",
    "print(type(local_time))\n",
    "if \"2022-01-19\" <= local_time <= \"2022-01-20\":\n",
    "    print(\"是在这个时间区间内\")\n",
    "else:\n",
    "    print(\"你傻逼\")"
   ]
  },
  {
   "cell_type": "code",
   "execution_count": null,
   "metadata": {},
   "outputs": [],
   "source": [
    "import datetime\n",
    "\n",
    "# 範圍時間\n",
    "d_time = datetime.datetime.strptime(str(datetime.datetime.now().date())+'9:30', '%Y-%m-%d%H:%M')\n",
    "d_time1 =  datetime.datetime.strptime(str(datetime.datetime.now().date())+'9:33', '%Y-%m-%d%H:%M')\n",
    "print(type(d_time))\n",
    "print(type(d_time1))\n",
    "# 當前時間\n",
    "n_time = datetime.datetime.now()\n",
    "print(type(n_time))\n",
    "# 判斷當前時間是否在範圍時間內\n",
    "if n_time > d_time and n_time<d_time1:\n",
    "    pass"
   ]
  },
  {
   "cell_type": "code",
   "execution_count": null,
   "metadata": {},
   "outputs": [],
   "source": [
    "import re\n",
    "url = \"https://cdn.discordapp.com/attachments/743370434048950272/932836550000123944/msedge_kXYMxhzjd4.png\"\n",
    "file_name = re.findall(r\"(?<=\\/)[^\\/\\?#]+(?=[^\\/]*$)\", url)[0]\n",
    "print(file_name)"
   ]
  },
  {
   "cell_type": "code",
   "execution_count": null,
   "metadata": {},
   "outputs": [],
   "source": [
    "str1=\"http is not good\"\n",
    "str2=\"hehe is hehe\"\n",
    "\n",
    "if str2.startswith(\"http\"):\n",
    "    print(\"great\")\n",
    "else:\n",
    "    print(\"bad\")"
   ]
  },
  {
   "cell_type": "code",
   "execution_count": null,
   "metadata": {},
   "outputs": [],
   "source": [
    "import datetime,time\n",
    "from datetime import datetime as dt\n",
    "from datetime import timedelta\n",
    "\n",
    "utc_time = dt.utcnow()\n",
    "local_time = utc_time + timedelta(hours=8)\n",
    "local_time = local_time.strftime('%d')\n",
    "dateList = [\"31\",\"30\",\"09\"]\n",
    "if local_time in dateList:\n",
    "    print(\"good\")\n",
    "else:\n",
    "    print(\"bad\")"
   ]
  },
  {
   "cell_type": "code",
   "execution_count": null,
   "metadata": {},
   "outputs": [],
   "source": [
    "import datetime,time\n",
    "from datetime import datetime as dt\n",
    "dt.now()"
   ]
  },
  {
   "cell_type": "code",
   "execution_count": null,
   "metadata": {},
   "outputs": [],
   "source": [
    "import datetime,time\n",
    "from datetime import datetime as dt\n",
    "time_stamp=dt.now().timestamp()\n",
    "print(time_stamp)\n",
    "struct_time = time.localtime(time_stamp) # 轉成時間元組\n",
    "timeString = time.strftime(\"%Y-%m-%d %H:%M:%S\", struct_time) # 轉成字串\n",
    "print(timeString)\n",
    "print(type(timeString))"
   ]
  },
  {
   "cell_type": "code",
   "execution_count": null,
   "metadata": {},
   "outputs": [],
   "source": [
    "int_1=5988\n",
    "divisor=1024\n",
    "int2=int_1/divisor\n",
    "round(int2/divisor,4)"
   ]
  },
  {
   "cell_type": "code",
   "execution_count": null,
   "metadata": {},
   "outputs": [],
   "source": [
    "import datetime\n",
    "from datetime import datetime as dt\n",
    "dt.now().timestamp()"
   ]
  },
  {
   "cell_type": "code",
   "execution_count": null,
   "metadata": {},
   "outputs": [],
   "source": [
    "for hererwrwer in range(0,3):\n",
    "    print(\"good\")"
   ]
  },
  {
   "cell_type": "code",
   "execution_count": null,
   "metadata": {},
   "outputs": [],
   "source": [
    "a=1\n",
    "b=2\n",
    "try:\n",
    "    if a>b:\n",
    "        print(\"bad\")\n",
    "except:\n",
    "    print(\"good\")\n",
    "else:\n",
    "    print(\"nothing happened\")\n",
    "finally:\n",
    "    print(\"hehe\")"
   ]
  },
  {
   "cell_type": "code",
   "execution_count": null,
   "metadata": {},
   "outputs": [],
   "source": [
    "alist= [1,2,3,4,5,6,7]\n",
    "for i in alist:\n",
    "    print(i)\n",
    "    if i == 2:\n",
    "        break"
   ]
  },
  {
   "cell_type": "code",
   "execution_count": null,
   "metadata": {},
   "outputs": [],
   "source": [
    "import time\n",
    "a=1\n",
    "while True:\n",
    "    try:\n",
    "        if a!=4:\n",
    "            print(f\"AAAAA: {a}\")\n",
    "            a+=1\n",
    "            raise Exception\n",
    "        elif a==4:\n",
    "            print(\"goooooooooood\")\n",
    "            break\n",
    "    except Exception as ex:\n",
    "        print(ex)\n",
    "        print(\"omg it's errorrrrrrrrr\")\n",
    "        time.sleep(2)\n",
    "    else:\n",
    "        pass\n",
    "    finally:\n",
    "        pass\n",
    "\n",
    "raise Exception"
   ]
  },
  {
   "cell_type": "code",
   "execution_count": null,
   "metadata": {},
   "outputs": [],
   "source": [
    "list1 = ['a']\n",
    "listb = [\"b\"]\n",
    "for i in listb:\n",
    "    print(i)\n",
    "    print(type(i))"
   ]
  },
  {
   "cell_type": "code",
   "execution_count": null,
   "metadata": {},
   "outputs": [],
   "source": [
    "list1= ['我誰','它誰','他誰','你誰',]\n",
    "list2= ['水','金','地','火','木',]\n",
    "msg1='我誰'\n",
    "msg2='木它誰'\n",
    "if msg1 in list1:\n",
    "    print(\"good\")\n",
    "else:\n",
    "    print(\"bad\")\n",
    "\n",
    "if msg2 in list1 and msg2 in list2:\n",
    "    print(\"i got it\")\n",
    "else:\n",
    "    print(\"bad bad bad\")\n"
   ]
  },
  {
   "cell_type": "code",
   "execution_count": null,
   "metadata": {},
   "outputs": [],
   "source": [
    "import time\n",
    "list1 = [1,2,3,4,5,6,7,8,9,10]\n",
    "while True:\n",
    "    if list1:\n",
    "        for i in list1:\n",
    "            print(i)\n",
    "            if i == 8 :\n",
    "                break\n",
    "            time.sleep(1)\n",
    "        break\n",
    "        print(\"hi\")\n",
    "    time.sleep(2)\n",
    "    print(\"good\")\n",
    "print(\"i did it\")"
   ]
  },
  {
   "cell_type": "code",
   "execution_count": null,
   "metadata": {},
   "outputs": [],
   "source": [
    "import random\n",
    "\n",
    "random.randint(1,2)"
   ]
  },
  {
   "cell_type": "code",
   "execution_count": null,
   "metadata": {},
   "outputs": [],
   "source": [
    "from datetime import datetime as dt\n",
    "from datetime import timezone, timedelta\n",
    "tz = timezone(timedelta(hours=+8))\n",
    "utc_time = dt.utcnow()\n",
    "local_time = utc_time + timedelta(hours=8)\n",
    "print(utc_time)\n",
    "print(local_time)\n",
    "print(dt.now(timezone.utc))"
   ]
  },
  {
   "cell_type": "code",
   "execution_count": null,
   "metadata": {},
   "outputs": [],
   "source": [
    "from facebook_scraper import *\n",
    "import time\n",
    "\n",
    "try:\n",
    "    count = 0\n",
    "    while True:\n",
    "        try:\n",
    "            print(\"gogogo\")\n",
    "            print(f\"總數: {count}\")\n",
    "            raise exceptions.TemporarilyBanned\n",
    "            print(\"not ban\")\n",
    "        except exceptions.TemporarilyBanned as e :\n",
    "            print(\"your are bannnnnned\")\n",
    "            count += 1\n",
    "            time.sleep(5)\n",
    "except Exception as e:\n",
    "    print(\"HEHE\")"
   ]
  },
  {
   "cell_type": "code",
   "execution_count": null,
   "metadata": {},
   "outputs": [],
   "source": [
    "\n",
    "from datetime import datetime,timedelta\n",
    "\n",
    "nowtime = datetime.now()\n",
    "\n",
    "add_twTime = timedelta(minutes=480)\n",
    "changeTime = nowtime + add_twTime\n",
    "print(nowtime)\n",
    "print(changeTime)\n",
    "print(add_twTime)"
   ]
  },
  {
   "cell_type": "code",
   "execution_count": null,
   "metadata": {},
   "outputs": [],
   "source": [
    "str1 = \"apple\"\n",
    "str2 = \"bang\"\n",
    "santance = f\"look at my {str1} and {str2}\"\n",
    "print(santance)  #字串放進字串測試"
   ]
  },
  {
   "cell_type": "code",
   "execution_count": null,
   "metadata": {},
   "outputs": [],
   "source": [
    "import logging\n",
    "\n",
    "\n",
    "logging.basicConfig(\n",
    "    filename='D:\\\\Users\\\\a21212\\\\Documents\\\\GitHub\\\\mumi_bot\\\\testing\\\\abc.log',\n",
    "    level=logging.INFO,\n",
    "    format='%(asctime)s - %(name)s - %(levelname)s - %(message)s',\n",
    "    datefmt='%Y-%m-%d %H:%M:%S'\n",
    ")\n",
    "\n",
    "\n",
    "if __name__ == \"__main__\":\n",
    "    logger = logging.getLogger(__name__)\n",
    "    logger.debug('debug')\n",
    "    logger.info('info')\n",
    "    logger.warning('warning')\n",
    "    logger.error('error')\n",
    "    logger.critical('critical')\n",
    "print(\"123\")"
   ]
  },
  {
   "cell_type": "code",
   "execution_count": null,
   "metadata": {},
   "outputs": [],
   "source": [
    "import pandas as pd\n",
    "import json\n",
    "\n",
    "data = '''\n",
    "{\n",
    "\"Results\":\n",
    "         [\n",
    "         { \"id\": \"1\", \"Name\": \"Jay\" },\n",
    "         { \"id\": \"2\", \"Name\": \"Mark\" },\n",
    "         { \"id\": \"3\", \"Name\": \"Jack\" }\n",
    "         ],\n",
    "\"status\": [\"ok\"]\n",
    "}\n",
    "'''\n",
    "\n",
    "info = json.loads(data)\n",
    "\n",
    "df = pd.json_normalize(info['Results'])\n",
    "\n",
    "df.to_csv(\"samplecsv.csv\")"
   ]
  },
  {
   "cell_type": "code",
   "execution_count": null,
   "metadata": {},
   "outputs": [],
   "source": [
    "def test(*args):\n",
    "    if len(args) > 0:\n",
    "        print(\"0\")\n",
    "    if len(args) > 1:\n",
    "        print(\"1\")\n",
    "test(1,2,3)"
   ]
  },
  {
   "cell_type": "code",
   "execution_count": null,
   "metadata": {},
   "outputs": [],
   "source": [
    "import random\n",
    "\n",
    "if random.randint(1,100) > random.randint(40,50):\n",
    "    print(\"大於50\")\n",
    "else:\n",
    "    print(\"GG\")"
   ]
  },
  {
   "cell_type": "code",
   "execution_count": null,
   "metadata": {},
   "outputs": [],
   "source": [
    "data2=[\n",
    "    {\n",
    "        \"bang0\":[\n",
    "            {\n",
    "                \"number\":999,\n",
    "                \"sex\":\"boy\",\n",
    "                \"short\":50\n",
    "            },\n",
    "            {\n",
    "                \"number\":666,\n",
    "                \"sex\":\"boy\",\n",
    "                \"short\":20\n",
    "            },\n",
    "            {\n",
    "                \"number\":666,\n",
    "                \"sex\":\"boy\",\n",
    "                \"short\":10\n",
    "            },\n",
    "            {\n",
    "                \"number\":666,\n",
    "                \"sex\":\"boy\",\n",
    "                \"short\":505\n",
    "            },\n",
    "        ]\n",
    "    }\n",
    "]\n",
    "data2"
   ]
  },
  {
   "cell_type": "code",
   "execution_count": null,
   "metadata": {},
   "outputs": [],
   "source": [
    "data2[0]['bang0']"
   ]
  },
  {
   "cell_type": "code",
   "execution_count": null,
   "metadata": {},
   "outputs": [],
   "source": [
    "data2[0]['bang0'][1]"
   ]
  },
  {
   "cell_type": "code",
   "execution_count": null,
   "metadata": {},
   "outputs": [],
   "source": [
    "if data2[0]['bang0'][0]['number'] == 999:\n",
    "    data2[0]['bang0'].pop(0)\n",
    "    print(\"ab\")"
   ]
  },
  {
   "cell_type": "code",
   "execution_count": null,
   "metadata": {},
   "outputs": [],
   "source": [
    "import random\n",
    "print(random.randint(1,5))"
   ]
  },
  {
   "cell_type": "code",
   "execution_count": null,
   "metadata": {},
   "outputs": [],
   "source": [
    "a=(1,2,3,4,'apple','bnanana')\n",
    "for i in a:\n",
    "    print(i)\n",
    "    if i == 'apple':\n",
    "        print('lets go')\n",
    "        break"
   ]
  },
  {
   "cell_type": "code",
   "execution_count": null,
   "metadata": {},
   "outputs": [],
   "source": [
    "a=(1,2,3,4,'apple','bnanana')\n",
    "b= len(a)\n",
    "for i in range(0,b):\n",
    "    print(\"0\")"
   ]
  },
  {
   "cell_type": "code",
   "execution_count": null,
   "metadata": {},
   "outputs": [],
   "source": [
    "len(data2[0]['bang0'])"
   ]
  },
  {
   "cell_type": "code",
   "execution_count": null,
   "metadata": {},
   "outputs": [],
   "source": [
    "def ttest(**kwargs):\n",
    "    if kwargs:\n",
    "        print(kwargs)\n",
    "        something = [k for k,v in kwargs.items()]\n",
    "        print(f\"got it: {something}\")\n",
    "        return[k for k,v in kwargs.items()]\n",
    "print(type(ttest(a=1,b=5)))\n",
    "print(ttest(a=1,b=5)[0])"
   ]
  },
  {
   "cell_type": "code",
   "execution_count": null,
   "metadata": {},
   "outputs": [],
   "source": [
    "dict_a={'food':'apple'\n",
    "        ,'work':'zero'\n",
    "        ,'chinese':200\n",
    "        , 'history':300\n",
    "        }\n",
    "print(dict_a.pop('456','沒有這東西'))\n",
    "dict_a"
   ]
  },
  {
   "cell_type": "code",
   "execution_count": null,
   "metadata": {},
   "outputs": [],
   "source": [
    "def test(*arg):\n",
    "    \n",
    "    print(arg)\n",
    "    print(type(arg))\n",
    "    for item in arg:\n",
    "        if item ==6:\n",
    "            print(\"u did it\")\n",
    "    # if arg == 6:\n",
    "    #     print(\"yes\")\n",
    "\n",
    "test(1,2,3,4,5,6,7)"
   ]
  },
  {
   "cell_type": "code",
   "execution_count": null,
   "metadata": {},
   "outputs": [],
   "source": [
    "def one_def(a,**kwargs):\n",
    "    print(kwargs)\n",
    "\n",
    "def two_def(b,**kwargs):\n",
    "    one_def(b,**kwargs)\n",
    "\n",
    "two_def(0,hehe='good',eric=6)\n",
    "\n"
   ]
  },
  {
   "cell_type": "code",
   "execution_count": null,
   "metadata": {},
   "outputs": [],
   "source": [
    "a= 1\n",
    "b=1\n",
    "if a != b:\n",
    "    print(\"a\")\n",
    "else:\n",
    "    print(\"good\")\n"
   ]
  },
  {
   "cell_type": "code",
   "execution_count": null,
   "metadata": {},
   "outputs": [],
   "source": [
    "dict_a={'food':'apple'\n",
    "        ,'work':'zero'}\n",
    "\n",
    "print(type(dict_a.get(\"good\",[])))\n",
    "try_get = dict_a.get('good',[])\n",
    "if type(try_get) == list:\n",
    "    print(\"it's not None!!\")\n",
    "else:\n",
    "    print(\"87\")\n",
    "    print(type(try_get))"
   ]
  },
  {
   "cell_type": "code",
   "execution_count": null,
   "metadata": {},
   "outputs": [],
   "source": [
    "a = \"657\"\n",
    "b = \"hehe\"\n",
    "c = int(a)\n",
    "print(c)\n",
    "print(type(c))\n"
   ]
  },
  {
   "cell_type": "code",
   "execution_count": null,
   "metadata": {},
   "outputs": [],
   "source": []
  },
  {
   "cell_type": "code",
   "execution_count": null,
   "metadata": {},
   "outputs": [],
   "source": []
  },
  {
   "cell_type": "code",
   "execution_count": null,
   "metadata": {},
   "outputs": [],
   "source": []
  },
  {
   "cell_type": "code",
   "execution_count": null,
   "metadata": {},
   "outputs": [],
   "source": []
  },
  {
   "cell_type": "code",
   "execution_count": null,
   "metadata": {},
   "outputs": [],
   "source": []
  }
 ],
 "metadata": {
  "interpreter": {
   "hash": "340cbb65261324af527ffc92435dede9a24f7f944e08369927857e55900a5e9a"
  },
  "kernelspec": {
   "display_name": "Python 3.9.6 64-bit ('3.9.6')",
   "language": "python",
   "name": "python3"
  },
  "language_info": {
   "codemirror_mode": {
    "name": "ipython",
    "version": 3
   },
   "file_extension": ".py",
   "mimetype": "text/x-python",
   "name": "python",
   "nbconvert_exporter": "python",
   "pygments_lexer": "ipython3",
   "version": "3.9.6"
  },
  "orig_nbformat": 4
 },
 "nbformat": 4,
 "nbformat_minor": 2
}
